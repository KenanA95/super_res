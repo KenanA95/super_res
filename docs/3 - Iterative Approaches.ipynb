{
 "cells": [
  {
   "cell_type": "markdown",
   "metadata": {
    "collapsed": true
   },
   "source": [
    "## Observation Model Theory <a class=\"anchor\" id=\"observation-model\"></a>\n",
    "\n",
    "A large portion of super-resolution solutions set up the problem as a set of linear equations. The relationship between the target high-resolution image and the low-resolution frames is related as a combination of linear operators. Some variation of the following equations are proposed. For this explanation the equations are taken from this paper [[1]](#http://www.ifp.illinois.edu/~jyang29/papers/chap1.pdf):\n",
    "\n",
    "\n",
    "\\begin{align}\n",
    "\\newline\n",
    "Y_k = D_kH_kF_k\\textbf{X} + N_k, k = 1,2...K \n",
    "\\newline\n",
    "\\newline\n",
    "\\end{align}\n",
    "\n",
    "\n",
    "\\begin{align}\n",
    "\\textbf{X} \\text{ - High-resolution image}\\newline\n",
    "Y_k \\text{ - kth low-resolution frame}\\newline\n",
    "D_k \\text{- Decimation Operator}\\newline\n",
    "H_k \\text{- Blurring Operator}\\newline\n",
    "F_k \\text{- Motion Information}\\newline\n",
    "N_k \\text {- Noise Term}\\newline\n",
    "\\end{align}\n",
    "\n",
    "Essentially the model tries to represent the degradation effects and hardware limitations of the captured image through three different operators. The _k_ number of operators for the low-resolution images are stacked to form:\n",
    "\n",
    "\\begin{align}\n",
    "\\newline\n",
    "\\newline\n",
    "\\end{align}\n",
    "\n",
    "\\begin{equation}\n",
    "  \\begin{pmatrix}\n",
    "    Y_1\\\\\n",
    "    Y_2\\\\\n",
    "    \\cdots\\\\\n",
    "    \\cdots\\\\\n",
    "    Y_K\n",
    " \\end{pmatrix}\n",
    " =\n",
    "  \\begin{pmatrix}\n",
    "    D_1H_1F_1\\\\\n",
    "    D_2H_2F_2\\\\\n",
    "    \\cdots\\\\\n",
    "    \\cdots\\\\\n",
    "    D_KH_KF_K\n",
    "  \\end{pmatrix}  \\textbf{X} + \\underline{N}\n",
    "\\end{equation}\n",
    "\n",
    "Which is equivalent to\n",
    "\n",
    "\\begin{align}\n",
    "\\newline\n",
    "\\underline{Y} = \\textit{A}\\textbf{X} + \\underline{N}\n",
    "\\newline\n",
    "\\newline\n",
    "\\end{align}\n",
    "\n",
    "Where _A_ is a matrix of the stacked operators. Ignoring the noise term this can be written as \n",
    "\n",
    "\\begin{align}\n",
    "\\newline\n",
    "\\underline{Y} = \\textit{A}\\textbf{X}\n",
    "\\newline\n",
    "\\newline\n",
    "\\end{align}\n",
    "\n",
    "Which is equivalent to the classical linear system\n",
    "\n",
    "\\begin{align}\n",
    "\\newline\n",
    "\\textit{A}x = \\bar{b}\n",
    "\\newline\n",
    "\\newline\n",
    "\\end{align}\n",
    "\n",
    "\n",
    "Where *A* is the sparse operator representing decimation, blur, and motion. *X* is the target high-resolution image, and *b* is the set of low-resolution frames in vector form.\n",
    "\n",
    "The issue is there is very little information on how to represent each of the linear operators *D* *H* and *F*. In the end, I found this paper [[2]](#http://users.wfu.edu/plemmons/papers/siam_maa3.pdf) which help me put together the decimation matrix and pointed me in the right direction for the blur matrix. The decimation matrix is a diagonal block [Toeplitx matrix](https://en.wikipedia.org/wiki/Toeplitz_matrix) as described in section A.1 in the paper. The blur matrix is constructed as a block Toeplitz matrix of Toeplitz blocks. I ended up digging a little further, and found an open source example [[3]](#http://scholar.sun.ac.za/handle/10019.1/5189) on how to build the blur matrix. An excellent example of a transformation matrix through bilinear interpolation was provided in the book Elegant Scipy and can be seen [here](https://github.com/elegant-scipy/elegant-scipy/blob/master/markdown/ch5.markdown)\n",
    "\n",
    "Since the operators can be very difficult to picture, I included some examples below.\n",
    "\n",
    "The target high-resolution image **_X_** is flattened into a vector and multiplied by each matrix. When multiplied with *D* the image is subsampled by a given factor. When multiplied with *F* the image goes through a homogeneous transformation. When multiplied by *H* the image is convolved with a given kernel. In the case of this project, the operator *H* is not applied. We are working with the special case where the high-resolution target is the PSF.\n",
    "\n",
    "\n",
    "## Iterative Approaches <a class=\"anchor\" id=\"iterative\"></a>\n",
    "\n",
    "References\n",
    "\n",
    "[ 1 ] : http://www.ifp.illinois.edu/~jyang29/papers/chap1.pdf (sect. 1.3.1)\n",
    "\n",
    "[ 2 ] : http://users.wfu.edu/plemmons/papers/siam_maa3.pdf (sect. A.1, A.3)\n",
    "\n",
    "[ 3 ] : http://scholar.sun.ac.za/handle/10019.1/5189 ( sect. 7.2)\n",
    "\n",
    "[ 4 ] : http://www.cse.huji.ac.il/course/2003/impr/supres-cvgip-gm91.pdf\n",
    "\n"
   ]
  },
  {
   "cell_type": "markdown",
   "metadata": {},
   "source": [
    "### Sample Operators"
   ]
  },
  {
   "cell_type": "code",
   "execution_count": 2,
   "metadata": {},
   "outputs": [
    {
     "name": "stdout",
     "output_type": "stream",
     "text": [
      "Sample Blur Operator (25x25 image and 5x5 PSF)\n"
     ]
    },
    {
     "data": {
      "image/png": "[encoded data removed]",
      "text/plain": [
       "<matplotlib.figure.Figure at 0x1a639c29da0>"
      ]
     },
     "metadata": {},
     "output_type": "display_data"
    },
    {
     "name": "stdout",
     "output_type": "stream",
     "text": [
      "Transformation Operator w/ shift of (10, 10) on 100x100 image\n"
     ]
    },
    {
     "data": {
      "image/png": "[encoded data removed]",
      "text/plain": [
       "<matplotlib.figure.Figure at 0x1a637c11128>"
      ]
     },
     "metadata": {},
     "output_type": "display_data"
    },
    {
     "name": "stdout",
     "output_type": "stream",
     "text": [
      "Sample Decimation Operator (10x10 image and Downsample Factor of 2)\n"
     ]
    },
    {
     "data": {
      "image/png": "[encoded data removed]",
      "text/plain": [
       "<matplotlib.figure.Figure at 0x1a63aacaa58>"
      ]
     },
     "metadata": {},
     "output_type": "display_data"
    }
   ],
   "source": [
    "import sys\n",
    "sys.path.insert(0, \"../src/\")\n",
    "sys.path.insert(0, \"../orex/\")\n",
    "from matplotlib import pyplot as plt\n",
    "from linear_operator import decimation_matrix, transformation_matrix, blur_matrix\n",
    "import numpy as np\n",
    "\n",
    "psf = np.ones((5, 5)) / 25\n",
    "\n",
    "H = np.array([\n",
    "    [1, 0, 10],\n",
    "    [0, 1, 10],\n",
    "    [0, 0, 1]\n",
    "])\n",
    "\n",
    "blur_mat = blur_matrix(25, 25, psf)\n",
    "tf_mat = transformation_matrix(H, (100, 100))\n",
    "dec_mat = decimation_matrix(10, 10, downsample_factor=2)\n",
    "\n",
    "print(\"Sample Blur Operator (25x25 image and 5x5 PSF)\")\n",
    "plt.imshow(blur_mat.toarray(), cmap='gray')\n",
    "plt.show()\n",
    "\n",
    "print(\"Transformation Operator w/ shift of (10, 10) on 100x100 image\")\n",
    "plt.imshow(tf_mat.toarray(), cmap='gray')\n",
    "plt.show()\n",
    "\n",
    "print(\"Sample Decimation Operator (10x10 image and Downsample Factor of 2)\")\n",
    "plt.imshow(dec_mat.toarray(), cmap='gray')\n",
    "plt.show()"
   ]
  },
  {
   "cell_type": "markdown",
   "metadata": {},
   "source": [
    "## LSQR\n",
    "\n",
    "### Synthetic Results\n",
    "\n",
    "### NavCam Results"
   ]
  },
  {
   "cell_type": "markdown",
   "metadata": {},
   "source": [
    "## Gradient Descent\n",
    "\n",
    "### Synthetic Results\n",
    "\n",
    "### NavCam Results"
   ]
  },
  {
   "cell_type": "markdown",
   "metadata": {},
   "source": [
    "## Irani Peleg MLE\n",
    "\n",
    "### Synthetic Results\n",
    "\n",
    "### NavCam Results"
   ]
  }
 ],
 "metadata": {
  "kernelspec": {
   "display_name": "Python 3",
   "language": "python",
   "name": "python3"
  },
  "language_info": {
   "codemirror_mode": {
    "name": "ipython",
    "version": 3
   },
   "file_extension": ".py",
   "mimetype": "text/x-python",
   "name": "python",
   "nbconvert_exporter": "python",
   "pygments_lexer": "ipython3",
   "version": "3.6.1"
  }
 },
 "nbformat": 4,
 "nbformat_minor": 1
}
